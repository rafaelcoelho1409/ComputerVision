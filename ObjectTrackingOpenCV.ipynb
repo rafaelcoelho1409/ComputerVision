{
  "cells": [
    {
      "cell_type": "markdown",
      "metadata": {},
      "source": [
        "# Detecção e classificação de objetos usando OpenCV\n",
        "_Desenvolvido em Maio/2021 (repostado)_"
      ]
    },
    {
      "cell_type": "markdown",
      "metadata": {
        "id": "i3Is0atwnIwH"
      },
      "source": [
        "Neste projeto, irei usar Visão Computacional com OpenCV, e Inteligência Artificial com Tensorflow e Keras, para fazer detecção e classificação de objetos em vídeo."
      ]
    },
    {
      "cell_type": "code",
      "execution_count": null,
      "metadata": {
        "colab": {
          "base_uri": "https://localhost:8080/"
        },
        "id": "YTZsz8BIDjYH",
        "outputId": "28e0e7f8-6427-46eb-b1af-5fa696a63f3e"
      },
      "outputs": [
        {
          "name": "stdout",
          "output_type": "stream",
          "text": [
            "Requirement already satisfied: opencv-contrib-python in /usr/local/lib/python3.7/dist-packages (4.1.2.30)\n",
            "Requirement already satisfied: numpy>=1.14.5 in /usr/local/lib/python3.7/dist-packages (from opencv-contrib-python) (1.19.5)\n"
          ]
        }
      ],
      "source": [
        "#Primeiro, importamos os pacotes necessários\n",
        "import cv2\n",
        "import numpy as np\n",
        "import tensorflow as tf"
      ]
    },
    {
      "cell_type": "code",
      "execution_count": null,
      "metadata": {
        "colab": {
          "base_uri": "https://localhost:8080/",
          "height": 213
        },
        "id": "Mm11bqL4DrlU",
        "outputId": "1ba765cd-bb5f-41ff-c23c-ba549842bb7d"
      },
      "outputs": [
        {
          "name": "stdout",
          "output_type": "stream",
          "text": [
            "Collecting git+https://github.com/nficano/pytube\n",
            "  Cloning https://github.com/nficano/pytube to /tmp/pip-req-build-_ntw5g7s\n",
            "  Running command git clone -q https://github.com/nficano/pytube /tmp/pip-req-build-_ntw5g7s\n",
            "Building wheels for collected packages: pytube\n",
            "  Building wheel for pytube (setup.py) ... \u001b[?25l\u001b[?25hdone\n",
            "  Created wheel for pytube: filename=pytube-10.7.2-cp37-none-any.whl size=42996 sha256=a10688fbcac29ca7429def254ef151c7b868e03b30a953ce67c71908c431c6b2\n",
            "  Stored in directory: /tmp/pip-ephem-wheel-cache-_y9721qe/wheels/44/da/40/3b5e03abe33a91895343814fb44b309512375408f4a909555b\n",
            "Successfully built pytube\n",
            "Installing collected packages: pytube\n",
            "Successfully installed pytube-10.7.2\n"
          ]
        },
        {
          "data": {
            "application/vnd.google.colaboratory.intrinsic+json": {
              "type": "string"
            },
            "text/plain": [
              "'/content/Test video for Object Detection  TRIDE.mp4'"
            ]
          },
          "execution_count": 2,
          "metadata": {
            "tags": []
          },
          "output_type": "execute_result"
        }
      ],
      "source": [
        "#Depois, importamos o pacote pytube, que baixa vídeos direto do YouTube. Aqui, peguei um vídeo curto de poucos segundos de pessoas andando em uma rua.\n",
        "!python -m pip install git+https://github.com/nficano/pytube\n",
        "import pytube\n",
        "path = 'https://www.youtube.com/watch?v=pk96gqasGBQ&ab_channel=TRIDE'\n",
        "pytube.YouTube(path).streams.get_highest_resolution().download()"
      ]
    },
    {
      "cell_type": "code",
      "execution_count": null,
      "metadata": {
        "colab": {
          "base_uri": "https://localhost:8080/"
        },
        "id": "3UagsFV3QaAp",
        "outputId": "244fb1fb-214d-4838-dd53-6ca791b8111d"
      },
      "outputs": [
        {
          "name": "stdout",
          "output_type": "stream",
          "text": [
            "Downloading data from https://storage.googleapis.com/tensorflow/keras-applications/mobilenet/mobilenet_1_0_224_tf.h5\n",
            "17227776/17225924 [==============================] - 1s 0us/step\n",
            "Model: \"mobilenet_1.00_224\"\n",
            "_________________________________________________________________\n",
            "Layer (type)                 Output Shape              Param #   \n",
            "=================================================================\n",
            "input_1 (InputLayer)         [(None, 224, 224, 3)]     0         \n",
            "_________________________________________________________________\n",
            "conv1 (Conv2D)               (None, 112, 112, 32)      864       \n",
            "_________________________________________________________________\n",
            "conv1_bn (BatchNormalization (None, 112, 112, 32)      128       \n",
            "_________________________________________________________________\n",
            "conv1_relu (ReLU)            (None, 112, 112, 32)      0         \n",
            "_________________________________________________________________\n",
            "conv_dw_1 (DepthwiseConv2D)  (None, 112, 112, 32)      288       \n",
            "_________________________________________________________________\n",
            "conv_dw_1_bn (BatchNormaliza (None, 112, 112, 32)      128       \n",
            "_________________________________________________________________\n",
            "conv_dw_1_relu (ReLU)        (None, 112, 112, 32)      0         \n",
            "_________________________________________________________________\n",
            "conv_pw_1 (Conv2D)           (None, 112, 112, 64)      2048      \n",
            "_________________________________________________________________\n",
            "conv_pw_1_bn (BatchNormaliza (None, 112, 112, 64)      256       \n",
            "_________________________________________________________________\n",
            "conv_pw_1_relu (ReLU)        (None, 112, 112, 64)      0         \n",
            "_________________________________________________________________\n",
            "conv_pad_2 (ZeroPadding2D)   (None, 113, 113, 64)      0         \n",
            "_________________________________________________________________\n",
            "conv_dw_2 (DepthwiseConv2D)  (None, 56, 56, 64)        576       \n",
            "_________________________________________________________________\n",
            "conv_dw_2_bn (BatchNormaliza (None, 56, 56, 64)        256       \n",
            "_________________________________________________________________\n",
            "conv_dw_2_relu (ReLU)        (None, 56, 56, 64)        0         \n",
            "_________________________________________________________________\n",
            "conv_pw_2 (Conv2D)           (None, 56, 56, 128)       8192      \n",
            "_________________________________________________________________\n",
            "conv_pw_2_bn (BatchNormaliza (None, 56, 56, 128)       512       \n",
            "_________________________________________________________________\n",
            "conv_pw_2_relu (ReLU)        (None, 56, 56, 128)       0         \n",
            "_________________________________________________________________\n",
            "conv_dw_3 (DepthwiseConv2D)  (None, 56, 56, 128)       1152      \n",
            "_________________________________________________________________\n",
            "conv_dw_3_bn (BatchNormaliza (None, 56, 56, 128)       512       \n",
            "_________________________________________________________________\n",
            "conv_dw_3_relu (ReLU)        (None, 56, 56, 128)       0         \n",
            "_________________________________________________________________\n",
            "conv_pw_3 (Conv2D)           (None, 56, 56, 128)       16384     \n",
            "_________________________________________________________________\n",
            "conv_pw_3_bn (BatchNormaliza (None, 56, 56, 128)       512       \n",
            "_________________________________________________________________\n",
            "conv_pw_3_relu (ReLU)        (None, 56, 56, 128)       0         \n",
            "_________________________________________________________________\n",
            "conv_pad_4 (ZeroPadding2D)   (None, 57, 57, 128)       0         \n",
            "_________________________________________________________________\n",
            "conv_dw_4 (DepthwiseConv2D)  (None, 28, 28, 128)       1152      \n",
            "_________________________________________________________________\n",
            "conv_dw_4_bn (BatchNormaliza (None, 28, 28, 128)       512       \n",
            "_________________________________________________________________\n",
            "conv_dw_4_relu (ReLU)        (None, 28, 28, 128)       0         \n",
            "_________________________________________________________________\n",
            "conv_pw_4 (Conv2D)           (None, 28, 28, 256)       32768     \n",
            "_________________________________________________________________\n",
            "conv_pw_4_bn (BatchNormaliza (None, 28, 28, 256)       1024      \n",
            "_________________________________________________________________\n",
            "conv_pw_4_relu (ReLU)        (None, 28, 28, 256)       0         \n",
            "_________________________________________________________________\n",
            "conv_dw_5 (DepthwiseConv2D)  (None, 28, 28, 256)       2304      \n",
            "_________________________________________________________________\n",
            "conv_dw_5_bn (BatchNormaliza (None, 28, 28, 256)       1024      \n",
            "_________________________________________________________________\n",
            "conv_dw_5_relu (ReLU)        (None, 28, 28, 256)       0         \n",
            "_________________________________________________________________\n",
            "conv_pw_5 (Conv2D)           (None, 28, 28, 256)       65536     \n",
            "_________________________________________________________________\n",
            "conv_pw_5_bn (BatchNormaliza (None, 28, 28, 256)       1024      \n",
            "_________________________________________________________________\n",
            "conv_pw_5_relu (ReLU)        (None, 28, 28, 256)       0         \n",
            "_________________________________________________________________\n",
            "conv_pad_6 (ZeroPadding2D)   (None, 29, 29, 256)       0         \n",
            "_________________________________________________________________\n",
            "conv_dw_6 (DepthwiseConv2D)  (None, 14, 14, 256)       2304      \n",
            "_________________________________________________________________\n",
            "conv_dw_6_bn (BatchNormaliza (None, 14, 14, 256)       1024      \n",
            "_________________________________________________________________\n",
            "conv_dw_6_relu (ReLU)        (None, 14, 14, 256)       0         \n",
            "_________________________________________________________________\n",
            "conv_pw_6 (Conv2D)           (None, 14, 14, 512)       131072    \n",
            "_________________________________________________________________\n",
            "conv_pw_6_bn (BatchNormaliza (None, 14, 14, 512)       2048      \n",
            "_________________________________________________________________\n",
            "conv_pw_6_relu (ReLU)        (None, 14, 14, 512)       0         \n",
            "_________________________________________________________________\n",
            "conv_dw_7 (DepthwiseConv2D)  (None, 14, 14, 512)       4608      \n",
            "_________________________________________________________________\n",
            "conv_dw_7_bn (BatchNormaliza (None, 14, 14, 512)       2048      \n",
            "_________________________________________________________________\n",
            "conv_dw_7_relu (ReLU)        (None, 14, 14, 512)       0         \n",
            "_________________________________________________________________\n",
            "conv_pw_7 (Conv2D)           (None, 14, 14, 512)       262144    \n",
            "_________________________________________________________________\n",
            "conv_pw_7_bn (BatchNormaliza (None, 14, 14, 512)       2048      \n",
            "_________________________________________________________________\n",
            "conv_pw_7_relu (ReLU)        (None, 14, 14, 512)       0         \n",
            "_________________________________________________________________\n",
            "conv_dw_8 (DepthwiseConv2D)  (None, 14, 14, 512)       4608      \n",
            "_________________________________________________________________\n",
            "conv_dw_8_bn (BatchNormaliza (None, 14, 14, 512)       2048      \n",
            "_________________________________________________________________\n",
            "conv_dw_8_relu (ReLU)        (None, 14, 14, 512)       0         \n",
            "_________________________________________________________________\n",
            "conv_pw_8 (Conv2D)           (None, 14, 14, 512)       262144    \n",
            "_________________________________________________________________\n",
            "conv_pw_8_bn (BatchNormaliza (None, 14, 14, 512)       2048      \n",
            "_________________________________________________________________\n",
            "conv_pw_8_relu (ReLU)        (None, 14, 14, 512)       0         \n",
            "_________________________________________________________________\n",
            "conv_dw_9 (DepthwiseConv2D)  (None, 14, 14, 512)       4608      \n",
            "_________________________________________________________________\n",
            "conv_dw_9_bn (BatchNormaliza (None, 14, 14, 512)       2048      \n",
            "_________________________________________________________________\n",
            "conv_dw_9_relu (ReLU)        (None, 14, 14, 512)       0         \n",
            "_________________________________________________________________\n",
            "conv_pw_9 (Conv2D)           (None, 14, 14, 512)       262144    \n",
            "_________________________________________________________________\n",
            "conv_pw_9_bn (BatchNormaliza (None, 14, 14, 512)       2048      \n",
            "_________________________________________________________________\n",
            "conv_pw_9_relu (ReLU)        (None, 14, 14, 512)       0         \n",
            "_________________________________________________________________\n",
            "conv_dw_10 (DepthwiseConv2D) (None, 14, 14, 512)       4608      \n",
            "_________________________________________________________________\n",
            "conv_dw_10_bn (BatchNormaliz (None, 14, 14, 512)       2048      \n",
            "_________________________________________________________________\n",
            "conv_dw_10_relu (ReLU)       (None, 14, 14, 512)       0         \n",
            "_________________________________________________________________\n",
            "conv_pw_10 (Conv2D)          (None, 14, 14, 512)       262144    \n",
            "_________________________________________________________________\n",
            "conv_pw_10_bn (BatchNormaliz (None, 14, 14, 512)       2048      \n",
            "_________________________________________________________________\n",
            "conv_pw_10_relu (ReLU)       (None, 14, 14, 512)       0         \n",
            "_________________________________________________________________\n",
            "conv_dw_11 (DepthwiseConv2D) (None, 14, 14, 512)       4608      \n",
            "_________________________________________________________________\n",
            "conv_dw_11_bn (BatchNormaliz (None, 14, 14, 512)       2048      \n",
            "_________________________________________________________________\n",
            "conv_dw_11_relu (ReLU)       (None, 14, 14, 512)       0         \n",
            "_________________________________________________________________\n",
            "conv_pw_11 (Conv2D)          (None, 14, 14, 512)       262144    \n",
            "_________________________________________________________________\n",
            "conv_pw_11_bn (BatchNormaliz (None, 14, 14, 512)       2048      \n",
            "_________________________________________________________________\n",
            "conv_pw_11_relu (ReLU)       (None, 14, 14, 512)       0         \n",
            "_________________________________________________________________\n",
            "conv_pad_12 (ZeroPadding2D)  (None, 15, 15, 512)       0         \n",
            "_________________________________________________________________\n",
            "conv_dw_12 (DepthwiseConv2D) (None, 7, 7, 512)         4608      \n",
            "_________________________________________________________________\n",
            "conv_dw_12_bn (BatchNormaliz (None, 7, 7, 512)         2048      \n",
            "_________________________________________________________________\n",
            "conv_dw_12_relu (ReLU)       (None, 7, 7, 512)         0         \n",
            "_________________________________________________________________\n",
            "conv_pw_12 (Conv2D)          (None, 7, 7, 1024)        524288    \n",
            "_________________________________________________________________\n",
            "conv_pw_12_bn (BatchNormaliz (None, 7, 7, 1024)        4096      \n",
            "_________________________________________________________________\n",
            "conv_pw_12_relu (ReLU)       (None, 7, 7, 1024)        0         \n",
            "_________________________________________________________________\n",
            "conv_dw_13 (DepthwiseConv2D) (None, 7, 7, 1024)        9216      \n",
            "_________________________________________________________________\n",
            "conv_dw_13_bn (BatchNormaliz (None, 7, 7, 1024)        4096      \n",
            "_________________________________________________________________\n",
            "conv_dw_13_relu (ReLU)       (None, 7, 7, 1024)        0         \n",
            "_________________________________________________________________\n",
            "conv_pw_13 (Conv2D)          (None, 7, 7, 1024)        1048576   \n",
            "_________________________________________________________________\n",
            "conv_pw_13_bn (BatchNormaliz (None, 7, 7, 1024)        4096      \n",
            "_________________________________________________________________\n",
            "conv_pw_13_relu (ReLU)       (None, 7, 7, 1024)        0         \n",
            "_________________________________________________________________\n",
            "global_average_pooling2d (Gl (None, 1024)              0         \n",
            "_________________________________________________________________\n",
            "reshape_1 (Reshape)          (None, 1, 1, 1024)        0         \n",
            "_________________________________________________________________\n",
            "dropout (Dropout)            (None, 1, 1, 1024)        0         \n",
            "_________________________________________________________________\n",
            "conv_preds (Conv2D)          (None, 1, 1, 1000)        1025000   \n",
            "_________________________________________________________________\n",
            "reshape_2 (Reshape)          (None, 1000)              0         \n",
            "_________________________________________________________________\n",
            "predictions (Activation)     (None, 1000)              0         \n",
            "=================================================================\n",
            "Total params: 4,253,864\n",
            "Trainable params: 4,231,976\n",
            "Non-trainable params: 21,888\n",
            "_________________________________________________________________\n"
          ]
        }
      ],
      "source": [
        "#Em seguida, importamos o modelo de rede neural pré-treinada MobileNet, dentro do Keras API, com os pesos do dataset Imagenet\n",
        "#Sobre o ImageNet: https://www.image-net.org/\n",
        "#Sobre MobileNet: https://blog.fellyph.com.br/javascript/o-que-e-mobilenet/\n",
        "model = tf.keras.applications.mobilenet.MobileNet(weights = 'imagenet', include_top = True)\n",
        "model.summary()\n",
        "\n",
        "#Note que a camada de inputs é do formato (224,224,3), logo toda região de interesse (ROI) detectada por frame precisa ser ajustada ao tamanho (224,224,3)\n",
        "#O 3 em (224,224,3) indica que a imagem tem três camadas de cores (BGR - Blue-Green-Red)"
      ]
    },
    {
      "cell_type": "code",
      "execution_count": null,
      "metadata": {
        "id": "I-VC9ehEUA6f"
      },
      "outputs": [],
      "source": [
        "import requests\n",
        "imagenet_classes = requests.get(\n",
        "    'https://gist.githubusercontent.com/yrevar/942d3a0ac09ec9e5eb3a/raw/238f720ff059c1f82f368259d1ca4ffa5dd8f9f5/imagenet1000_clsidx_to_labels.txt')\n",
        "imagenet_classes = eval(imagenet_classes.text)"
      ]
    },
    {
      "cell_type": "code",
      "execution_count": null,
      "metadata": {
        "colab": {
          "base_uri": "https://localhost:8080/"
        },
        "id": "vOHN0yASD8Xr",
        "outputId": "b4ea5d11-b3fb-46ec-c2b2-e3ef9a67889c"
      },
      "outputs": [],
      "source": [
        "#Detectando os objetos e armazenando os frames em um novo vídeo\n",
        "cap = cv2.VideoCapture('Test video for Object Detection  TRIDE.mp4')\n",
        "bg_substractor = cv2.createBackgroundSubtractorKNN() #Substrator de plano de fundo\n",
        "bg_substractor.setHistory(20) #Lê 20 frames antes de começar as transformações\n",
        "erode_kernel = cv2.getStructuringElement(cv2.MORPH_ELLIPSE, (3,3)) #Núcleo de erosão 3x3\n",
        "dilate_kernel = cv2.getStructuringElement(cv2.MORPH_ELLIPSE, (8,3)) #Núcleo de dilatação 8x3\n",
        "\n",
        "fps = cap.get(cv2.CAP_PROP_FPS) #Frames por segundo do vídeo\n",
        "size = (int(cap.get(cv2.CAP_PROP_FRAME_WIDTH)), int(cap.get(cv2.CAP_PROP_FRAME_HEIGHT))) #Altura e largura de cada frame do vídeo\n",
        "fourcc = cv2.VideoWriter_fourcc(*'I420') #'Gravador' de frames em um vídeo no formato AVI\n",
        "out = cv2.VideoWriter('output.avi', fourcc, fps, size) \n",
        "\n",
        "success, frame = cap.read()\n",
        "while success:\n",
        "  fg_mask = bg_substractor.apply(frame) #foreground mask (máscara de primeiro plano)\n",
        "  _, thresh = cv2.threshold(fg_mask, 127, 255, cv2.THRESH_BINARY) #delimitador, transforma qualquer pixel mais claro que o cinza em branco, e qualquer mais escuro em cinza em preto\n",
        "      \n",
        "  cv2.erode(thresh, erode_kernel, thresh, iterations = 2) #Erosão em foreground mask delimitada\n",
        "  cv2.dilate(thresh, dilate_kernel, thresh, iterations = 2) #Dilatação em foreground mask delimitada\n",
        "      \n",
        "  contours, hier = cv2.findContours(thresh, cv2.RETR_EXTERNAL, cv2.CHAIN_APPROX_SIMPLE) #Detecção de contornos\n",
        "  for c in contours:\n",
        "    count = 0\n",
        "    if cv2.contourArea(c) > 750:\n",
        "      (x,y,w,h) = cv2.boundingRect(c) #Delimita um retângulo com o contorno dentro \n",
        "      cv2.rectangle(frame, (x,y), (x+w,y+h), (0,255,0), 2) #Desenha um retângulo ao redor do objeto detectado\n",
        "      roi_frame = frame[y:y+h, x:x+w] / 255 #Região de interesse detectada no frame\n",
        "      roi_frame = cv2.resize(roi_frame, (224,224)) #Redimensionando a região de interesse para o tamanho 224x224\n",
        "      roi_label = imagenet_classes[np.argmax(model.predict(np.array([roi_frame], dtype = np.float32)))] #Classificação da região de interesse\n",
        "      cv2.putText(frame, f'{roi_label}', (x, y-5), cv2.FONT_HERSHEY_SIMPLEX, 1, (0,0,255), 1) #Classe a qual pertence o objeto detectado\n",
        "      print(f'Frame written.')\n",
        "\n",
        "  out.write(frame) #Escreve o frame alterado\n",
        "\n",
        "  success, frame = cap.read() #Lê um novo frame"
      ]
    },
    {
      "cell_type": "code",
      "execution_count": null,
      "metadata": {
        "colab": {
          "base_uri": "https://localhost:8080/"
        },
        "id": "saQA5IUPLwz4",
        "outputId": "440e4e00-9720-44ca-e25c-f8c13e8721b1"
      },
      "outputs": [
        {
          "name": "stdout",
          "output_type": "stream",
          "text": [
            "ffmpeg version 3.4.8-0ubuntu0.2 Copyright (c) 2000-2020 the FFmpeg developers\n",
            "  built with gcc 7 (Ubuntu 7.5.0-3ubuntu1~18.04)\n",
            "  configuration: --prefix=/usr --extra-version=0ubuntu0.2 --toolchain=hardened --libdir=/usr/lib/x86_64-linux-gnu --incdir=/usr/include/x86_64-linux-gnu --enable-gpl --disable-stripping --enable-avresample --enable-avisynth --enable-gnutls --enable-ladspa --enable-libass --enable-libbluray --enable-libbs2b --enable-libcaca --enable-libcdio --enable-libflite --enable-libfontconfig --enable-libfreetype --enable-libfribidi --enable-libgme --enable-libgsm --enable-libmp3lame --enable-libmysofa --enable-libopenjpeg --enable-libopenmpt --enable-libopus --enable-libpulse --enable-librubberband --enable-librsvg --enable-libshine --enable-libsnappy --enable-libsoxr --enable-libspeex --enable-libssh --enable-libtheora --enable-libtwolame --enable-libvorbis --enable-libvpx --enable-libwavpack --enable-libwebp --enable-libx265 --enable-libxml2 --enable-libxvid --enable-libzmq --enable-libzvbi --enable-omx --enable-openal --enable-opengl --enable-sdl2 --enable-libdc1394 --enable-libdrm --enable-libiec61883 --enable-chromaprint --enable-frei0r --enable-libopencv --enable-libx264 --enable-shared\n",
            "  libavutil      55. 78.100 / 55. 78.100\n",
            "  libavcodec     57.107.100 / 57.107.100\n",
            "  libavformat    57. 83.100 / 57. 83.100\n",
            "  libavdevice    57. 10.100 / 57. 10.100\n",
            "  libavfilter     6.107.100 /  6.107.100\n",
            "  libavresample   3.  7.  0 /  3.  7.  0\n",
            "  libswscale      4.  8.100 /  4.  8.100\n",
            "  libswresample   2.  9.100 /  2.  9.100\n",
            "  libpostproc    54.  7.100 / 54.  7.100\n",
            "Input #0, avi, from 'output.avi':\n",
            "  Metadata:\n",
            "    encoder         : Lavf58.35.100\n",
            "  Duration: N/A, start: 0.000000, bitrate: N/A\n",
            "    Stream #0:0: Video: rawvideo (I420 / 0x30323449), yuv420p, 1280x720, 25 fps, 25 tbr, 25 tbn, 25 tbc\n",
            "Stream mapping:\n",
            "  Stream #0:0 -> #0:0 (rawvideo (native) -> h264 (libx264))\n",
            "Press [q] to stop, [?] for help\n",
            "\u001b[1;36m[libx264 @ 0x555ec6effe00] \u001b[0musing cpu capabilities: MMX2 SSE2Fast SSSE3 SSE4.2 AVX FMA3 BMI2 AVX2\n",
            "\u001b[1;36m[libx264 @ 0x555ec6effe00] \u001b[0mprofile High, level 3.1\n",
            "\u001b[1;36m[libx264 @ 0x555ec6effe00] \u001b[0m264 - core 152 r2854 e9a5903 - H.264/MPEG-4 AVC codec - Copyleft 2003-2017 - http://www.videolan.org/x264.html - options: cabac=1 ref=3 deblock=1:0:0 analyse=0x3:0x113 me=hex subme=7 psy=1 psy_rd=1.00:0.00 mixed_ref=1 me_range=16 chroma_me=1 trellis=1 8x8dct=1 cqm=0 deadzone=21,11 fast_pskip=1 chroma_qp_offset=-2 threads=3 lookahead_threads=1 sliced_threads=0 nr=0 decimate=1 interlaced=0 bluray_compat=0 constrained_intra=0 bframes=3 b_pyramid=2 b_adapt=1 b_bias=0 direct=1 weightb=1 open_gop=0 weightp=2 keyint=250 keyint_min=25 scenecut=40 intra_refresh=0 rc_lookahead=40 rc=crf mbtree=1 crf=23.0 qcomp=0.60 qpmin=0 qpmax=69 qpstep=4 ip_ratio=1.40 aq=1:1.00\n",
            "Output #0, mp4, to 'output.mp4':\n",
            "  Metadata:\n",
            "    encoder         : Lavf57.83.100\n",
            "    Stream #0:0: Video: h264 (libx264) (avc1 / 0x31637661), yuv420p, 1280x720, q=-1--1, 25 fps, 12800 tbn, 25 tbc\n",
            "    Metadata:\n",
            "      encoder         : Lavc57.107.100 libx264\n",
            "    Side data:\n",
            "      cpb: bitrate max/min/avg: 0/0/0 buffer size: 0 vbv_delay: -1\n",
            "frame=  530 fps= 21 q=-1.0 Lsize=    7447kB time=00:00:21.08 bitrate=2893.9kbits/s speed=0.842x    \n",
            "video:7440kB audio:0kB subtitle:0kB other streams:0kB global headers:0kB muxing overhead: 0.095823%\n",
            "\u001b[1;36m[libx264 @ 0x555ec6effe00] \u001b[0mframe I:3     Avg QP:18.16  size:122190\n",
            "\u001b[1;36m[libx264 @ 0x555ec6effe00] \u001b[0mframe P:134   Avg QP:21.07  size: 24764\n",
            "\u001b[1;36m[libx264 @ 0x555ec6effe00] \u001b[0mframe B:393   Avg QP:28.67  size: 10006\n",
            "\u001b[1;36m[libx264 @ 0x555ec6effe00] \u001b[0mconsecutive B-frames:  0.9%  0.4%  0.6% 98.1%\n",
            "\u001b[1;36m[libx264 @ 0x555ec6effe00] \u001b[0mmb I  I16..4:  1.9% 72.0% 26.1%\n",
            "\u001b[1;36m[libx264 @ 0x555ec6effe00] \u001b[0mmb P  I16..4:  0.4%  3.6%  4.4%  P16..4: 23.3%  9.7%  7.3%  0.0%  0.0%    skip:51.3%\n",
            "\u001b[1;36m[libx264 @ 0x555ec6effe00] \u001b[0mmb B  I16..4:  0.1%  0.2%  1.1%  B16..8: 19.8%  4.7%  2.0%  direct: 1.5%  skip:70.6%  L0:43.2% L1:51.5% BI: 5.3%\n",
            "\u001b[1;36m[libx264 @ 0x555ec6effe00] \u001b[0m8x8 transform intra:38.7% inter:52.6%\n",
            "\u001b[1;36m[libx264 @ 0x555ec6effe00] \u001b[0mcoded y,uvDC,uvAC intra: 84.1% 85.5% 58.3% inter: 8.5% 10.2% 7.3%\n",
            "\u001b[1;36m[libx264 @ 0x555ec6effe00] \u001b[0mi16 v,h,dc,p: 45% 19% 12% 23%\n",
            "\u001b[1;36m[libx264 @ 0x555ec6effe00] \u001b[0mi8 v,h,dc,ddl,ddr,vr,hd,vl,hu: 19% 18% 19%  7%  5%  6%  6%  7% 13%\n",
            "\u001b[1;36m[libx264 @ 0x555ec6effe00] \u001b[0mi4 v,h,dc,ddl,ddr,vr,hd,vl,hu: 33% 17% 21%  5%  4%  6%  4%  5%  5%\n",
            "\u001b[1;36m[libx264 @ 0x555ec6effe00] \u001b[0mi8c dc,h,v,p: 42% 21% 32%  5%\n",
            "\u001b[1;36m[libx264 @ 0x555ec6effe00] \u001b[0mWeighted P-Frames: Y:0.7% UV:0.0%\n",
            "\u001b[1;36m[libx264 @ 0x555ec6effe00] \u001b[0mref P L0: 61.8% 13.4% 17.3%  7.4%  0.1%\n",
            "\u001b[1;36m[libx264 @ 0x555ec6effe00] \u001b[0mref B L0: 86.5% 10.8%  2.7%\n",
            "\u001b[1;36m[libx264 @ 0x555ec6effe00] \u001b[0mref B L1: 92.9%  7.1%\n",
            "\u001b[1;36m[libx264 @ 0x555ec6effe00] \u001b[0mkb/s:2874.53\n"
          ]
        }
      ],
      "source": [
        "#Conversão do vídeo do formato avi para mp4\n",
        "!ffmpeg -i output.avi output.mp4"
      ]
    },
    {
      "cell_type": "code",
      "execution_count": null,
      "metadata": {
        "colab": {
          "base_uri": "https://localhost:8080/",
          "height": 16
        },
        "id": "cvrIfvk2MC4a",
        "outputId": "6a729b19-4532-4b70-bb21-69fab68a6108"
      },
      "outputs": [
        {
          "data": {
            "application/javascript": "\n    async function download(id, filename, size) {\n      if (!google.colab.kernel.accessAllowed) {\n        return;\n      }\n      const div = document.createElement('div');\n      const label = document.createElement('label');\n      label.textContent = `Downloading \"${filename}\": `;\n      div.appendChild(label);\n      const progress = document.createElement('progress');\n      progress.max = size;\n      div.appendChild(progress);\n      document.body.appendChild(div);\n\n      const buffers = [];\n      let downloaded = 0;\n\n      const channel = await google.colab.kernel.comms.open(id);\n      // Send a message to notify the kernel that we're ready.\n      channel.send({})\n\n      for await (const message of channel.messages) {\n        // Send a message to notify the kernel that we're ready.\n        channel.send({})\n        if (message.buffers) {\n          for (const buffer of message.buffers) {\n            buffers.push(buffer);\n            downloaded += buffer.byteLength;\n            progress.value = downloaded;\n          }\n        }\n      }\n      const blob = new Blob(buffers, {type: 'application/binary'});\n      const a = document.createElement('a');\n      a.href = window.URL.createObjectURL(blob);\n      a.download = filename;\n      div.appendChild(a);\n      a.click();\n      div.remove();\n    }\n  ",
            "text/plain": [
              "<IPython.core.display.Javascript object>"
            ]
          },
          "metadata": {
            "tags": []
          },
          "output_type": "display_data"
        },
        {
          "data": {
            "application/javascript": "download(\"download_954bb9d8-b765-4b05-878c-29ef50c5b529\", \"output.mp4\", 7625488)",
            "text/plain": [
              "<IPython.core.display.Javascript object>"
            ]
          },
          "metadata": {
            "tags": []
          },
          "output_type": "display_data"
        }
      ],
      "source": [
        "#Download para a máquina, onde irei fazer upload dentro do repositório do GitHub\n",
        "from google.colab import files \n",
        "files.download('output.mp4')"
      ]
    },
    {
      "cell_type": "markdown",
      "metadata": {
        "id": "ZfQTvjEDrBvA"
      },
      "source": []
    },
    {
      "cell_type": "markdown",
      "metadata": {
        "id": "NXO9daWNqI-j"
      },
      "source": [
        "Este com certeza não é o jeito mais efetivo de se fazer. Por algum motivo, não consegui de jeito nenhum implementar o módulo cv2.dnn.readNet para usar a rede neural pré-treinada de modo eficiente.\n",
        "\n",
        "Passei horas atrás de uma solução para poder usar este módulo sem ter esse \"delay\" (o vídeo de menos de 30s que fiz upload levou mais de 8min para que ficasse pronta a detecção e classificação do jeito que fiz, a famosa GAMBIARRA).\n",
        "\n",
        "Porém, foi o jeito que encontrei no momento. Espero que implementem uma solução para esse problema neste módulo (tem a ver com congelar os grafos da rede pré-treinada do Tensorflow)."
      ]
    }
  ],
  "metadata": {
    "colab": {
      "collapsed_sections": [],
      "name": "Detectando e classificando objetos em vídeo usando Visão Computacional e Inteligência Artificial.ipynb",
      "provenance": []
    },
    "kernelspec": {
      "display_name": "Python 3",
      "name": "python3"
    },
    "language_info": {
      "name": "python",
      "version": "3.8.10"
    }
  },
  "nbformat": 4,
  "nbformat_minor": 0
}
